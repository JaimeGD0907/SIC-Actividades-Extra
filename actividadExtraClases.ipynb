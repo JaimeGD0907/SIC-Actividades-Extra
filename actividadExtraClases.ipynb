{
 "cells": [
  {
   "cell_type": "code",
   "execution_count": 1,
   "metadata": {},
   "outputs": [
    {
     "name": "stdout",
     "output_type": "stream",
     "text": [
      "[20, 10]\n",
      "[20, 10, 12]\n",
      "[10, 12]\n",
      "[10]\n"
     ]
    }
   ],
   "source": [
    "class Deque:\n",
    "    def __init__(self):\n",
    "        self.deque = []\n",
    "    \n",
    "    def add_first(self, item):\n",
    "        self.deque.insert(0, item)\n",
    "    \n",
    "    def remove_first(self):\n",
    "        return None if len(self.deque) == 0 else self.deque.pop(0)\n",
    "    \n",
    "    def add_last(self, item):\n",
    "        self.deque.append(item)\n",
    "    \n",
    "    def remove_last(self):\n",
    "        return None if len(self.deque) == 0 else self.deque.pop()\n",
    "    \n",
    "    def __str__(self):\n",
    "        return str(self.deque)\n",
    "\n",
    "# Pruebas\n",
    "p1 = Deque()\n",
    "\n",
    "p1.add_first(10)\n",
    "p1.add_first(20)\n",
    "print(p1)\n",
    "p1.add_last(12)\n",
    "print(p1)\n",
    "p1.remove_first()\n",
    "print(p1)\n",
    "p1.remove_last()\n",
    "print(p1)\n"
   ]
  }
 ],
 "metadata": {
  "kernelspec": {
   "display_name": "Python 3",
   "language": "python",
   "name": "python3"
  },
  "language_info": {
   "codemirror_mode": {
    "name": "ipython",
    "version": 3
   },
   "file_extension": ".py",
   "mimetype": "text/x-python",
   "name": "python",
   "nbconvert_exporter": "python",
   "pygments_lexer": "ipython3",
   "version": "3.12.5"
  }
 },
 "nbformat": 4,
 "nbformat_minor": 2
}
