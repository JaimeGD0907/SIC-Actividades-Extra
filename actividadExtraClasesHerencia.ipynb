{
 "cells": [
  {
   "cell_type": "code",
   "execution_count": 1,
   "metadata": {},
   "outputs": [],
   "source": [
    "class Persona:\n",
    "    def __init__(self, name):\n",
    "        self.__name = name\n",
    "\n",
    "    def get_name(self):\n",
    "        return self.__name\n",
    "\n",
    "class Director(Persona):\n",
    "    def __init__(self, name, position):\n",
    "        self.__position = position\n",
    "        super().__init__(name)\n",
    "    \n",
    "    def get_position():\n",
    "        pass\n",
    "    \n",
    "    def set_position(self, pos):\n",
    "        self.__position = pos\n",
    "\n",
    "class Empleado(Persona):\n",
    "    def __init__(self, name, id):\n",
    "        super().__init__(name) # en la img sale pass\n",
    "    \n",
    "    def get_position():\n",
    "        pass\n",
    "    \n",
    "    def set_position(self, pos):\n",
    "        pass\n"
   ]
  },
  {
   "cell_type": "code",
   "execution_count": 2,
   "metadata": {},
   "outputs": [],
   "source": [
    "p1 = Director(\"Juan perez\", \"CEO\")"
   ]
  },
  {
   "cell_type": "code",
   "execution_count": null,
   "metadata": {},
   "outputs": [
    {
     "data": {
      "text/plain": [
       "'Juan perez'"
      ]
     },
     "execution_count": 4,
     "metadata": {},
     "output_type": "execute_result"
    }
   ],
   "source": [
    "\n",
    "p1.get_name()"
   ]
  },
  {
   "cell_type": "code",
   "execution_count": 1,
   "metadata": {},
   "outputs": [],
   "source": [
    "class Persona:\n",
    "    def __init__(self, name):\n",
    "        self.__name = name\n",
    "\n",
    "    def get_name(self):\n",
    "        return self.__name\n",
    "\n",
    "class Director(Persona):\n",
    "    def __init__(self, name, position):\n",
    "        super().__init__(name)\n",
    "        self.__position = position\n",
    "    \n",
    "    def get_position(self):\n",
    "        return self.__position  # Devuelve la posición del director\n",
    "    \n",
    "    def set_position(self, pos):\n",
    "        self.__position = pos  # Establece una nueva posición para el director\n",
    "\n",
    "class Empleado(Persona):\n",
    "    def __init__(self, name, id):\n",
    "        super().__init__(name)\n",
    "        self.__id = id  # Almacena el id del empleado\n",
    "    \n",
    "    def get_position(self):\n",
    "        return \"Empleado\"  # Los empleados no tienen posición específica\n",
    "    \n",
    "    def set_position(self, pos):\n",
    "        pass\n"
   ]
  },
  {
   "cell_type": "code",
   "execution_count": 3,
   "metadata": {},
   "outputs": [
    {
     "name": "stdout",
     "output_type": "stream",
     "text": [
      "Nombre del Director: Juan Pérez\n",
      "Posición del Director: Director General\n",
      "Nueva posición del Director: Director de Operaciones\n",
      "Nombre del Empleado: María López\n",
      "Posición del Empleado: Empleado\n",
      "Posición del Empleado después de intentar cambiarla: Empleado\n"
     ]
    }
   ],
   "source": [
    "# Crear un Director\n",
    "director = Director(\"Juan Pérez\", \"Director General\")\n",
    "print(f\"Nombre del Director: {director.get_name()}\")\n",
    "print(f\"Posición del Director: {director.get_position()}\")\n",
    "\n",
    "# Cambiar la posición del Director\n",
    "director.set_position(\"Director de Operaciones\")\n",
    "print(f\"Nueva posición del Director: {director.get_position()}\")\n",
    "\n",
    "# Crear un Empleado\n",
    "empleado = Empleado(\"María López\", 1234)\n",
    "print(f\"Nombre del Empleado: {empleado.get_name()}\")\n",
    "print(f\"Posición del Empleado: {empleado.get_position()}\")\n",
    "\n",
    "# Intentar cambiar la posición del Empleado (no tiene efecto)\n",
    "empleado.set_position(\"Gerente\")\n",
    "print(f\"Posición del Empleado después de intentar cambiarla: {empleado.get_position()}\")"
   ]
  }
 ],
 "metadata": {
  "kernelspec": {
   "display_name": "Python 3",
   "language": "python",
   "name": "python3"
  },
  "language_info": {
   "codemirror_mode": {
    "name": "ipython",
    "version": 3
   },
   "file_extension": ".py",
   "mimetype": "text/x-python",
   "name": "python",
   "nbconvert_exporter": "python",
   "pygments_lexer": "ipython3",
   "version": "3.12.5"
  }
 },
 "nbformat": 4,
 "nbformat_minor": 2
}
